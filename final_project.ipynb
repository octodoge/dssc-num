{
 "cells": [
  {
   "cell_type": "markdown",
   "id": "a1aff875-ed04-47c2-b81e-f95a60b89fd7",
   "metadata": {},
   "source": [
    "# Final project"
   ]
  },
  {
   "cell_type": "code",
   "execution_count": 1,
   "id": "063f666d-1d19-4a4f-9b4d-01b2976aae62",
   "metadata": {
    "tags": []
   },
   "outputs": [
    {
     "name": "stdout",
     "output_type": "stream",
     "text": [
      "(60000, 28, 28) (60000,)\n",
      "(10000, 28, 28) (10000,)\n"
     ]
    }
   ],
   "source": [
    "import numpy as np\n",
    "\n",
    "arc = np.load('mnist.npz')\n",
    "\n",
    "x_train = arc['arr_0']\n",
    "y_train = arc['arr_1']\n",
    "x_test  = arc['arr_2']\n",
    "y_test  = arc['arr_3']\n",
    "\n",
    "print(x_train.shape, y_train.shape)\n",
    "print(x_test.shape, y_test.shape)"
   ]
  },
  {
   "cell_type": "code",
   "execution_count": 2,
   "id": "166def5f-2277-4b69-b2cb-33ac6dbb0aa3",
   "metadata": {},
   "outputs": [
    {
     "data": {
      "image/png": "[encoded data removed]",
      "text/plain": [
       "<Figure size 640x480 with 1 Axes>"
      ]
     },
     "metadata": {},
     "output_type": "display_data"
    }
   ],
   "source": [
    "import matplotlib.pyplot as plt\n",
    "\n",
    "N=15\n",
    "plt.imshow(x_train[N], cmap='gray_r')\n",
    "_ = plt.title('Hand written digit '+str(y_train[N]))"
   ]
  },
  {
   "cell_type": "markdown",
   "id": "ca9edf70-da34-40a0-baa4-99128008966c",
   "metadata": {},
   "source": [
    "General guidelines:\n",
    "* Time all functions you construct, and try to make them run as fast as possible by precomputing anything that can be precomputed\n",
    "* Extra points are gained if you reduce the complexity of the given algorithms in any possible way, for example by exploiting linearity, etc.\n",
    "* If something takes too long to execute, make sure you time it on a smaller set of input data, and give estimates of how long it would take to run the full thing (without actually running it)\n",
    "* If you don't have enough computational power, run the exercises only up to what is sustainable for your pc"
   ]
  },
  {
   "cell_type": "markdown",
   "id": "01da064e-a2dc-406a-b851-8b0df41fec0d",
   "metadata": {
    "tags": []
   },
   "source": [
    "## Assignment 1\n",
    "\n",
    "Implement the following distance functions\n",
    "\n",
    "- d_infty $$ d_{\\infty}(a,b) := \\max_{i,j} |b_{ij}-a_{ij}|$$\n",
    "- d_one $$ d_1(a,b) := \\sum_{i,j} |b_{ij}-a_{ij}|$$\n",
    "- d_two $$ d_2(a,b) := \\sqrt{\\sum_{i,j} |b_{ij}-a_{ij}|^2}$$\n",
    "\n",
    "that take two `(28,28)` images in input, and return a non-negative number.\n",
    "\n",
    "### Solution"
   ]
  },
  {
   "cell_type": "code",
   "execution_count": 3,
   "id": "bfbc4a1b-02c0-4bfb-8bfc-d973080dfe4f",
   "metadata": {},
   "outputs": [
    {
     "name": "stdout",
     "output_type": "stream",
     "text": [
      "20.9 µs ± 1.99 µs per loop (mean ± std. dev. of 7 runs, 1,000 loops each)\n",
      "19.9 µs ± 306 ns per loop (mean ± std. dev. of 7 runs, 1,000 loops each)\n",
      "23.5 µs ± 551 ns per loop (mean ± std. dev. of 7 runs, 1,000 loops each)\n"
     ]
    }
   ],
   "source": [
    "def d_infty(image_a, image_b):\n",
    "    return np.max(np.abs(image_b - image_a))\n",
    "\n",
    "def d_one(image_a, image_b):\n",
    "    return np.sum(np.abs(image_b - image_a))\n",
    "\n",
    "def d_two(image_a, image_b):\n",
    "    return np.sqrt(np.sum((image_b - image_a) ** 2))\n",
    "\n",
    "#time them\n",
    "for dist in [d_infty, d_one, d_two]:\n",
    "    %timeit -n1000 dist(*x_train[:2])"
   ]
  },
  {
   "cell_type": "markdown",
   "id": "89af6880-8ebd-4448-9577-fc14f790a162",
   "metadata": {},
   "source": [
    "## Assignment 2\n",
    "\n",
    "Write a function that, given a number `N`, and a distance function `dist`, computes the distance matrix D of shape `(N,N)` between the first `N` entries of `x_train`:\n",
    "\n",
    "```\n",
    "D[i,j] = dist(x_train[i], x_train[j])\n",
    "```\n",
    "\n",
    "performing the **minimum** number of operations (i.e., avoid computing a distance if it has already been computed before, i.e., keep in mind that dist(a,b) = dist(b,a)).\n",
    "\n",
    "### Solution"
   ]
  },
  {
   "cell_type": "code",
   "execution_count": 4,
   "id": "f7404b80-78a3-4713-a1fe-b9b43e591cea",
   "metadata": {},
   "outputs": [
    {
     "name": "stdout",
     "output_type": "stream",
     "text": [
      "199 µs ± 12.8 µs per loop (mean ± std. dev. of 7 runs, 100 loops each)\n"
     ]
    }
   ],
   "source": [
    "def compute_distance_matrix(N, dist):\n",
    "    D = np.zeros([N, N])\n",
    "    for i in range(N):\n",
    "        for j in range(i+1, N):\n",
    "            D[i, j] = D[j, i] = dist(x_train[i], x_train[j])\n",
    "    return D\n",
    "\n",
    "#time it\n",
    "%timeit -n100 compute_distance_matrix(5, d_infty)"
   ]
  },
  {
   "cell_type": "markdown",
   "id": "f87f6270-16af-45e4-8dac-dcf71999e9c7",
   "metadata": {},
   "source": [
    "## Assignment 3\n",
    "\n",
    "Compute and plot the three distance matrices\n",
    "\n",
    "- Dinfty\n",
    "- D1\n",
    "- D2\n",
    "\n",
    "for the first 100 images of the training set, using the function `imshow` applied to the three matrices\n",
    "\n",
    "### Solution"
   ]
  },
  {
   "cell_type": "code",
   "execution_count": 5,
   "id": "402c94ee-04ed-4c0c-b346-05b959237ef8",
   "metadata": {},
   "outputs": [],
   "source": [
    "#TODO"
   ]
  },
  {
   "cell_type": "markdown",
   "id": "b8f28d8a-2fe9-4583-ac63-1359c72f72f8",
   "metadata": {},
   "source": [
    "## Assignment 4\n",
    "\n",
    "Using only a distance matrix, apply the algorithm described above and compute the efficency of the algorithm, i.e., write a function that:\n",
    "\n",
    "Given a distance matrix with shape `(N,N)`, constructed on the first `N` samples of the `x_train` set, count the number of failures of the **leave one out** strategy, i.e., \n",
    "\n",
    "- set `error_counter` to zero\n",
    "\n",
    "- for every line `i` of the matrix:\n",
    "\n",
    "    - find the index `j` (different from `i`) for which `D[i,k] >= D[i,j]` for all `k` different from `i` and `j`.\n",
    "\n",
    "    - if `y_train[j]` is different from `y_train[i]`, increment by one `error_counter`\n",
    "\n",
    "- return the error: error_counter/N\n",
    "\n",
    "- apply the function above to the 3 different distance matrices you computed before\n",
    "\n",
    "### Solution"
   ]
  },
  {
   "cell_type": "code",
   "execution_count": 6,
   "id": "a6fe903f-12c8-4c99-859c-1dc01c0ed71f",
   "metadata": {},
   "outputs": [],
   "source": [
    "#TODO"
   ]
  },
  {
   "cell_type": "markdown",
   "id": "372427aa-9960-4101-81c1-c213ddf7aba5",
   "metadata": {},
   "source": [
    "## Assignment 5\n",
    "\n",
    "Run the algorithm implemented above for N=100,200,400,800,1600 on the three different distances, and plot the three error rate as a function of N (i.e., compute the distance matrix, and compute the efficiency associated to the distance matrix).\n",
    "\n",
    "You should get an error like:\n",
    "```\n",
    "[[ 0.58      0.17      0.17    ]\n",
    " [ 0.52      0.145     0.135   ]\n",
    " [ 0.4425    0.15      0.135   ]\n",
    " [ 0.4       0.145     0.12875 ]\n",
    " [ 0.369375  0.1025    0.09375 ]]\n",
    "```\n",
    "where each column represents a different norm.\n",
    "\n",
    "** In the next assignments, optional points are given if you manage to make the algorithm run faster, by pre-computing everything you can precompute in advance **\n",
    "\n",
    "### Solution"
   ]
  },
  {
   "cell_type": "code",
   "execution_count": 7,
   "id": "ff5bb67d-0702-4c13-9899-e5a4c21c4a1d",
   "metadata": {},
   "outputs": [],
   "source": [
    "#TODO"
   ]
  },
  {
   "cell_type": "markdown",
   "id": "11932b1e-31ee-4cb2-999f-0d03566b7dd1",
   "metadata": {},
   "source": [
    "# Assignment 6\n",
    "\n",
    "In principle, it should be possible to decrease the error by using a better norm. From the table above, it is clear that the L2 distance works better than the L1 distance, which works better than the Linfty distance.\n",
    "\n",
    "However, *none of these distances exploit the fact that the image is a two-dimensional object*, and that there is information also in the **neighboring** information of the pixels. \n",
    "\n",
    "One way to exploit this, is to interpret the image as a continuous function with values between zero and one, defined on a square domain `\\Omega=[0,27]x[0,27]`.\n",
    "\n",
    "$$ f: \\Omega \\to R $$\n",
    "\n",
    "- Implement a function that computes an approximation of the $H^1$ norm distance on the renormalized images. Given two images $f_1$ and $f_2$\n",
    "    - Compute $$a = \\frac{f_1}{\\int_\\Omega f_1}$$, $$b=\\frac{f_2}{\\int_\\Omega f_2}$$\n",
    "    - Define the $H^1$ distance as\n",
    "    $$\n",
    "    d_{H^1}(f_1,f_2) := \\sqrt{\\int_\\Omega |\\nabla(a-b)|^2+ (a-b)^2}\n",
    "    $$\n",
    "    using the algorithm you prefer (or the library you prefer) to compute the gradients and the integrals. Notice that $\\nabla f = (\\partial f/\\partial x, \\partial f/\\partial y)$ is a vector valued function, and $|\\nabla g|^2 := (\\partial g/\\partial x)^2 + (\\partial g/\\partial y)^2$\n",
    "\n",
    "- Compute the distance matrix and the efficiency for this distance for N=100,200,400,800,1600\n",
    "\n",
    "### Solution"
   ]
  },
  {
   "cell_type": "code",
   "execution_count": 8,
   "id": "af24f887-6fa0-4b81-ac57-531299b8eda6",
   "metadata": {},
   "outputs": [],
   "source": [
    "#TODO"
   ]
  },
  {
   "cell_type": "markdown",
   "id": "01e351b0-aee8-4d9c-a046-e97c96559705",
   "metadata": {},
   "source": [
    "## Assigment 7\n",
    "\n",
    "Use the `BallTree` algorithm (https://en.wikipedia.org/wiki/Ball_tree), from the `sklearn` package, and construct a tree data structure **that uses a distance from the steps defined above**.\n",
    "\n",
    "For N in `[3200, 6400]` and for each distance defined above\n",
    "\n",
    "- Build a tree using the first N entries of the training set `x_train`\n",
    "- Construct a function that tests the efficiency on all the entries of the test set `x_test`:\n",
    "    - for any image in `x_test`, call it `x_test[i]`, query the tree for the nearest neighbor (call it `k`), and assign as predicted digit the digit of the `x_train[k]` image, i.e., `y_train[k]`\n",
    "    - check if `y_train[k]` is equal to the corresponding entry in `y_test[i]`. If not, increment a counter of the error\n",
    "    - return the efficiency, i.e., `error_counter/len(x_test)`\n",
    "- Plot, in a single graph, the error of each distance as a function of `N` (including labels, titles, etc.)\n",
    "\n",
    "- Once you have the tree, experiment with different nearest neighbor algorithms, i.e., instead of taking only one nearest neighbor, take a larger number (a small number of your choice), and instead of returning the single closest digit, return the one with the largest number of occurrences. Plot the same graph you gave before, and see if you gain an improvement. Motivate all choices you have to make to get to the final answer.\n",
    "\n",
    "### Solution"
   ]
  },
  {
   "cell_type": "code",
   "execution_count": 9,
   "id": "756cb95f-ba53-41d7-ac4c-b511c10b8122",
   "metadata": {
    "tags": []
   },
   "outputs": [],
   "source": [
    "#TODO"
   ]
  }
 ],
 "metadata": {
  "kernelspec": {
   "display_name": "Python 3 (ipykernel)",
   "language": "python",
   "name": "python3"
  },
  "language_info": {
   "codemirror_mode": {
    "name": "ipython",
    "version": 3
   },
   "file_extension": ".py",
   "mimetype": "text/x-python",
   "name": "python",
   "nbconvert_exporter": "python",
   "pygments_lexer": "ipython3",
   "version": "3.11.5"
  }
 },
 "nbformat": 4,
 "nbformat_minor": 5
}
